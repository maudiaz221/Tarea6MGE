{
 "cells": [
  {
   "cell_type": "markdown",
   "metadata": {},
   "source": [
    "# ETL"
   ]
  },
  {
   "cell_type": "markdown",
   "metadata": {},
   "source": [
    "## Library"
   ]
  },
  {
   "cell_type": "code",
   "execution_count": 2,
   "metadata": {},
   "outputs": [],
   "source": [
    "import os \n",
    "import pandas as pd\n",
    "import boto3\n",
    "import yaml\n",
    "import requests\n",
    "from INEGIpy import Indicadores"
   ]
  },
  {
   "cell_type": "markdown",
   "metadata": {},
   "source": [
    "## Tokens"
   ]
  },
  {
   "cell_type": "code",
   "execution_count": 3,
   "metadata": {},
   "outputs": [],
   "source": [
    "with open(\"config.yaml\", \"r\") as file:\n",
    "    config = yaml.safe_load(file)\n",
    "\n",
    "# Conexión a APIs\n",
    "banxico_token = config[\"API\"][\"BANXICO_TOKEN\"]\n",
    "inegi_token = config[\"API\"][\"INEGI_TOKEN\"]"
   ]
  },
  {
   "cell_type": "markdown",
   "metadata": {},
   "source": [
    "## Extract "
   ]
  },
  {
   "cell_type": "code",
   "execution_count": 54,
   "metadata": {},
   "outputs": [
    {
     "name": "stderr",
     "output_type": "stream",
     "text": [
      "/opt/conda/envs/arquitectura/lib/python3.11/site-packages/INEGIpy/_indicadores.py:108: UserWarning: Could not infer format, so each element will be parsed individually, falling back to `dateutil`. To ensure parsing is consistent and as-expected, please specify a format.\n",
      "  df.set_index(pd.to_datetime(df.fechas),inplace=True, drop=True)\n"
     ]
    }
   ],
   "source": [
    "\n",
    "def extract_info_banxico(series_id: str) -> pd.DataFrame:\n",
    "\n",
    "    url = f\"https://www.banxico.org.mx/SieAPIRest/service/v1/series/{series_id}/datos/2000-01-01/2018-01-08\"\n",
    "\n",
    "    data = requests.get(url, headers={\"Bmx-Token\": banxico_token}).json()\n",
    "\n",
    "\n",
    "    series = data['bmx']['series'][0]  # Assuming one series\n",
    "    data = pd.DataFrame(series['datos'])\n",
    "\n",
    "    return data\n",
    "\n",
    "\n",
    "def extract_info_inegi() -> pd.DataFrame:\n",
    "    inegi = Indicadores(inegi_token)\n",
    "\n",
    "    data = inegi.obtener_df(indicadores = [\"216377\"], \n",
    "                      nombres = ['Inflacion'], \n",
    "                      inicio = '2000', \n",
    "                      fin = '2018')\n",
    "    \n",
    "    return data\n",
    "\n",
    "\n",
    "series_id = [\"SF63528\",\"SF61745\"]\n",
    "\n",
    "# Extraccion de tasa de interes, tipo de cambio e inflacion\n",
    "tasa = extract_info_banxico(series_id[0])\n",
    "tipo_cambio = extract_info_banxico(series_id[1])\n",
    "inflacion = extract_info_inegi()\n",
    "\n",
    "\n",
    "\n",
    "\n",
    "    "
   ]
  },
  {
   "cell_type": "markdown",
   "metadata": {},
   "source": [
    "## Transform"
   ]
  },
  {
   "cell_type": "code",
   "execution_count": 55,
   "metadata": {},
   "outputs": [],
   "source": [
    "def clean_data_tasa(data: pd.DataFrame) -> pd.DataFrame:\n",
    "    data[\"date\"] = pd.to_datetime(data[\"fecha\"], format=\"%d/%m/%Y\")\n",
    "    data[\"tasa_de_interes\"] = pd.to_numeric(data[\"dato\"])\n",
    "    data.drop(columns=[\"fecha\", \"dato\"], inplace=True)\n",
    "    return data\n",
    "\n",
    "def clean_data_cambio(data: pd.DataFrame) -> pd.DataFrame:\n",
    "    data[\"date\"] = pd.to_datetime(data[\"fecha\"], format=\"%d/%m/%Y\")\n",
    "    data[\"tipo_de_cambio\"] = pd.to_numeric(data[\"dato\"])\n",
    "    data.drop(columns=[\"fecha\", \"dato\"], inplace=True)\n",
    "    return data\n",
    "\n",
    "def clean_data_inflacion(data: pd.DataFrame) -> pd.DataFrame:\n",
    "    data[\"date\"] = pd.to_datetime(data.index, format=\"%d/%m/%Y\")\n",
    "    data[\"inflacion\"] = pd.to_numeric(data[\"Inflacion\"])\n",
    "    data.drop(columns=[\"Inflacion\"], inplace=True)\n",
    "    data.reset_index(drop=True, inplace=True)\n",
    "    return data\n",
    "\n",
    "tasa = clean_data_tasa(tasa)\n",
    "tipo_cambio = clean_data_cambio(tipo_cambio)\n",
    "inflacion = clean_data_inflacion(inflacion)\n"
   ]
  },
  {
   "cell_type": "markdown",
   "metadata": {},
   "source": [
    "## Load"
   ]
  },
  {
   "cell_type": "code",
   "execution_count": 56,
   "metadata": {},
   "outputs": [],
   "source": [
    "tasa.to_csv(\"data/tasa.csv\", index=False)\n",
    "tipo_cambio.to_csv(\"data/tipo_cambio.csv\", index=False)\n",
    "inflacion.to_csv(\"data/inflacion.csv\", index=False)\n"
   ]
  },
  {
   "cell_type": "code",
   "execution_count": 57,
   "metadata": {},
   "outputs": [],
   "source": [
    "# Subir archivos a S3\n",
    "session = boto3.Session(profile_name='arquitectura')\n",
    "s3 = session.client('s3')\n",
    "BUCKET_NAME = \"itam-analytics-mau\""
   ]
  },
  {
   "cell_type": "code",
   "execution_count": 58,
   "metadata": {},
   "outputs": [],
   "source": [
    "# upload de archivos\n",
    "\n",
    "s3.upload_file(Filename=\"data/inflacion.csv\", Bucket=BUCKET_NAME, Key=\"econ/raw/inflacion/inflacion.csv\")\n",
    "s3.upload_file(Filename=\"data/tasa.csv\", Bucket=BUCKET_NAME, Key=\"econ/raw/tasa/tasa.csv\")\n",
    "s3.upload_file(Filename=\"data/tipo_cambio.csv\", Bucket=BUCKET_NAME, Key=\"econ/raw/tipo_cambio/tipo_cambio.csv\")"
   ]
  },
  {
   "cell_type": "code",
   "execution_count": null,
   "metadata": {},
   "outputs": [],
   "source": []
  }
 ],
 "metadata": {
  "kernelspec": {
   "display_name": "arquitectura",
   "language": "python",
   "name": "python3"
  },
  "language_info": {
   "codemirror_mode": {
    "name": "ipython",
    "version": 3
   },
   "file_extension": ".py",
   "mimetype": "text/x-python",
   "name": "python",
   "nbconvert_exporter": "python",
   "pygments_lexer": "ipython3",
   "version": "3.11.11"
  }
 },
 "nbformat": 4,
 "nbformat_minor": 2
}
